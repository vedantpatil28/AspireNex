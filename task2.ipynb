{
  "nbformat": 4,
  "nbformat_minor": 0,
  "metadata": {
    "colab": {
      "provenance": [],
      "authorship_tag": "ABX9TyPzWPL7/Y3XWNx3b3H/i06M"
    },
    "kernelspec": {
      "name": "python3",
      "display_name": "Python 3"
    },
    "language_info": {
      "name": "python"
    }
  },
  "cells": [
    {
      "cell_type": "code",
      "source": [
        "import pandas as pd\n",
        "import numpy as np\n",
        "from sklearn.impute import SimpleImputer\n",
        "from sklearn.preprocessing import LabelEncoder, StandardScaler\n",
        "from sklearn.model_selection import train_test_split\n",
        "from sklearn.ensemble import RandomForestRegressor\n",
        "from sklearn.metrics import mean_squared_error"
      ],
      "metadata": {
        "id": "PM3rvRLjKzCQ"
      },
      "execution_count": 38,
      "outputs": []
    },
    {
      "cell_type": "code",
      "source": [
        "movies_df = pd.read_csv('movies.csv', encoding='ISO-8859-1')"
      ],
      "metadata": {
        "id": "2o-agLEILz14"
      },
      "execution_count": 39,
      "outputs": []
    },
    {
      "cell_type": "code",
      "source": [
        "print(\"Initial Data Summary:\")\n",
        "print(movies_df.info())\n"
      ],
      "metadata": {
        "colab": {
          "base_uri": "https://localhost:8080/"
        },
        "id": "s3S0JupCL4hm",
        "outputId": "eb934e83-51b5-4e5e-b0c2-e923165f63ef"
      },
      "execution_count": 40,
      "outputs": [
        {
          "output_type": "stream",
          "name": "stdout",
          "text": [
            "Initial Data Summary:\n",
            "<class 'pandas.core.frame.DataFrame'>\n",
            "RangeIndex: 15509 entries, 0 to 15508\n",
            "Data columns (total 10 columns):\n",
            " #   Column    Non-Null Count  Dtype  \n",
            "---  ------    --------------  -----  \n",
            " 0   Name      15509 non-null  object \n",
            " 1   Year      14981 non-null  object \n",
            " 2   Duration  7240 non-null   object \n",
            " 3   Genre     13632 non-null  object \n",
            " 4   Rating    7919 non-null   float64\n",
            " 5   Votes     7920 non-null   object \n",
            " 6   Director  14984 non-null  object \n",
            " 7   Actor 1   13892 non-null  object \n",
            " 8   Actor 2   13125 non-null  object \n",
            " 9   Actor 3   12365 non-null  object \n",
            "dtypes: float64(1), object(9)\n",
            "memory usage: 1.2+ MB\n",
            "None\n"
          ]
        }
      ]
    },
    {
      "cell_type": "code",
      "source": [
        "# Year\n",
        "movies_df['Year'] = pd.to_numeric(movies_df['Year'].str.extract('(\\d{4})')[0], errors='coerce')\n",
        "num_imputer = SimpleImputer(strategy='median')\n",
        "movies_df['Year'] = num_imputer.fit_transform(movies_df[['Year']])\n",
        "\n",
        "# Duration\n",
        "movies_df['Duration'] = pd.to_numeric(movies_df['Duration'].str.extract('(\\d+)')[0], errors='coerce')\n",
        "movies_df['Duration'] = num_imputer.fit_transform(movies_df[['Duration']])\n",
        "\n",
        "# Votes\n",
        "movies_df['Votes'] = pd.to_numeric(movies_df['Votes'].str.replace(',', ''), errors='coerce')\n",
        "movies_df['Votes'] = movies_df['Votes'].fillna(0)\n",
        "\n",
        "# Rating\n",
        "movies_df = movies_df.dropna(subset=['Rating'])\n",
        "\n",
        "# Categorical values\n",
        "cat_columns = ['Genre', 'Director', 'Actor 1', 'Actor 2', 'Actor 3']\n",
        "for column in cat_columns:\n",
        "    movies_df[column] = movies_df[column].fillna('Unknown')"
      ],
      "metadata": {
        "colab": {
          "base_uri": "https://localhost:8080/"
        },
        "id": "hV-gOZqEL6cT",
        "outputId": "6178687b-1fad-42f5-8d7a-04461764704d"
      },
      "execution_count": 41,
      "outputs": [
        {
          "output_type": "stream",
          "name": "stderr",
          "text": [
            "<ipython-input-41-c678b7b3b152>:20: SettingWithCopyWarning: \n",
            "A value is trying to be set on a copy of a slice from a DataFrame.\n",
            "Try using .loc[row_indexer,col_indexer] = value instead\n",
            "\n",
            "See the caveats in the documentation: https://pandas.pydata.org/pandas-docs/stable/user_guide/indexing.html#returning-a-view-versus-a-copy\n",
            "  movies_df[column] = movies_df[column].fillna('Unknown')\n"
          ]
        }
      ]
    },
    {
      "cell_type": "code",
      "source": [
        "# Cleaning\n",
        "for column in cat_columns:\n",
        "    movies_df[column] = movies_df[column].str.lower().str.strip()"
      ],
      "metadata": {
        "id": "GhG2bsR3L-FS"
      },
      "execution_count": 42,
      "outputs": []
    },
    {
      "cell_type": "code",
      "source": [
        "# Feature Engineering\n",
        "genres = movies_df['Genre'].str.get_dummies(sep=', ')\n",
        "movies_df = pd.concat([movies_df, genres], axis=1)\n",
        "movies_df = movies_df.drop(columns=['Genre'])\n",
        "\n",
        "le = LabelEncoder()\n",
        "for column in ['Director', 'Actor 1', 'Actor 2', 'Actor 3']:\n",
        "    movies_df[column] = le.fit_transform(movies_df[column])"
      ],
      "metadata": {
        "id": "2ak9qOZ7MA6d"
      },
      "execution_count": 43,
      "outputs": []
    },
    {
      "cell_type": "code",
      "source": [
        "# For outliers\n",
        "z_scores = np.abs((movies_df[['Year', 'Duration', 'Votes']] - movies_df[['Year', 'Duration', 'Votes']].mean()) / movies_df[['Year', 'Duration', 'Votes']].std())\n",
        "outliers = (z_scores > 3).any(axis=1)\n",
        "\n",
        "print(f\"Number of outliers detected: {outliers.sum()}\")\n",
        "\n",
        "movies_df = movies_df[~outliers]"
      ],
      "metadata": {
        "colab": {
          "base_uri": "https://localhost:8080/"
        },
        "id": "pWaqxA0gMCv0",
        "outputId": "14d72520-61b0-4264-e9c0-b816fc64eec5"
      },
      "execution_count": 44,
      "outputs": [
        {
          "output_type": "stream",
          "name": "stdout",
          "text": [
            "Number of outliers detected: 178\n"
          ]
        }
      ]
    },
    {
      "cell_type": "code",
      "source": [
        "# Training and Testing data\n",
        "X = movies_df.drop(columns=['Name', 'Rating'])\n",
        "y = movies_df['Rating']\n",
        "\n",
        "X_train, X_test, y_train, y_test = train_test_split(X, y, test_size=0.2, random_state=42)\n",
        "\n",
        "scaler = StandardScaler()\n",
        "X_train = scaler.fit_transform(X_train)\n",
        "X_test = scaler.transform(X_test)"
      ],
      "metadata": {
        "id": "3RkQLaDfMFG_"
      },
      "execution_count": 45,
      "outputs": []
    },
    {
      "cell_type": "code",
      "source": [
        "# Build and Train the Model\n",
        "model = RandomForestRegressor(n_estimators=100, random_state=42)\n",
        "model.fit(X_train, y_train)\n",
        "\n",
        "y_pred = model.predict(X_test)\n",
        "\n",
        "mse = mean_squared_error(y_test, y_pred)\n",
        "print(f'Mean Squared Error: {mse}')\n",
        "\n",
        "# Feature Importance\n",
        "feature_importance = pd.Series(model.feature_importances_, index=X.columns)\n",
        "print(\"Feature Importances:\")\n",
        "print(feature_importance.sort_values(ascending=False))"
      ],
      "metadata": {
        "colab": {
          "base_uri": "https://localhost:8080/"
        },
        "id": "a2_GCe3gMHjO",
        "outputId": "5b9d9372-a1dd-409f-ce45-173482f6fce9"
      },
      "execution_count": 46,
      "outputs": [
        {
          "output_type": "stream",
          "name": "stdout",
          "text": [
            "Mean Squared Error: 1.246311021949645\n",
            "Feature Importances:\n",
            "Year           2.102679e-01\n",
            "Votes          2.027666e-01\n",
            "Actor 1        9.000465e-02\n",
            "Actor 2        8.887933e-02\n",
            "Director       8.459191e-02\n",
            "Actor 3        8.228378e-02\n",
            "Duration       8.164346e-02\n",
            "documentary    2.540136e-02\n",
            "action         2.189830e-02\n",
            "drama          1.893548e-02\n",
            "romance        1.576932e-02\n",
            "horror         1.297374e-02\n",
            "comedy         1.258265e-02\n",
            "thriller       8.628093e-03\n",
            "crime          7.404293e-03\n",
            "adventure      5.960586e-03\n",
            "musical        4.997657e-03\n",
            "family         4.872242e-03\n",
            "mystery        3.369883e-03\n",
            "fantasy        2.982104e-03\n",
            "unknown        2.604779e-03\n",
            "history        2.454321e-03\n",
            "biography      2.194515e-03\n",
            "war            1.912726e-03\n",
            "music          1.718327e-03\n",
            "animation      1.470350e-03\n",
            "sci-fi         7.710110e-04\n",
            "sport          6.412377e-04\n",
            "western        1.938439e-05\n",
            "news           6.628239e-09\n",
            "dtype: float64\n"
          ]
        }
      ]
    }
  ]
}